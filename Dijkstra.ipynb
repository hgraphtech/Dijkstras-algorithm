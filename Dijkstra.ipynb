{
 "cells": [
  {
   "cell_type": "code",
   "execution_count": 131,
   "metadata": {},
   "outputs": [],
   "source": [
    "# Dijkstras Algorithm\n",
    "\n",
    "import random"
   ]
  },
  {
   "cell_type": "code",
   "execution_count": 132,
   "metadata": {},
   "outputs": [],
   "source": [
    "# define graph class\n",
    "\n",
    "class Graph():\n",
    "    def __init__(self):\n",
    "        self.V = []\n",
    "        self.E = []\n",
    "        \n",
    "    def add_vertex(self,v):\n",
    "        if v not in self.V:\n",
    "            self.V.append(v) \n",
    "            \n",
    "    def add_edge(self,e):\n",
    "        a,b,w = e\n",
    "        self.E.append(e)\n",
    "        \n",
    "    def get_adjacents(self,v):\n",
    "        adjacents = []\n",
    "        for (a,b,w) in self.E:\n",
    "            if a==v:\n",
    "                adjacents.append((b,w))\n",
    "            if b==v:\n",
    "                adjacents.append((a,w))\n",
    "        return adjacents\n",
    "        \n",
    "    def show_graph(self):\n",
    "        print(self.E)\n",
    "        "
   ]
  },
  {
   "cell_type": "code",
   "execution_count": 133,
   "metadata": {},
   "outputs": [],
   "source": [
    "# set up a graph\n",
    "\n",
    "vertex_list = ['A','B','C','D','E','F','G']\n",
    "edges = [('A','B'),('A','D'),('A','E'),('B','C'),('B','D'),\n",
    "         ('E','D'),('E','F'),('D','C'),('D','F'),('D','G'),('C','G'),('C','F')]\n",
    "min_weight = 1\n",
    "max_weight = 20\n",
    "\n",
    "G = Graph()\n",
    "for v in vertex_list:\n",
    "    G.add_vertex(v)\n",
    "for (x,y) in edges:\n",
    "    w = random.choice(range(min_weight,max_weight))\n",
    "    G.add_edge((x,y,w))\n",
    "    "
   ]
  },
  {
   "cell_type": "code",
   "execution_count": 134,
   "metadata": {},
   "outputs": [
    {
     "name": "stdout",
     "output_type": "stream",
     "text": [
      "[('A', 'B', 13), ('A', 'D', 14), ('A', 'E', 7), ('B', 'C', 16), ('B', 'D', 8), ('E', 'D', 3), ('E', 'F', 10), ('D', 'C', 15), ('D', 'F', 11), ('D', 'G', 19), ('C', 'G', 2), ('C', 'F', 5)]\n"
     ]
    }
   ],
   "source": [
    "# show graph (start vertex, end vertex, edge weight)\n",
    "\n",
    "G.show_graph()"
   ]
  },
  {
   "cell_type": "code",
   "execution_count": 143,
   "metadata": {},
   "outputs": [],
   "source": [
    "# seek shortest path from A to G\n",
    "\n",
    "def run_algorithm(G):\n",
    "    \n",
    "    working = {}\n",
    "    permanent = {}\n",
    "    log = {}\n",
    "\n",
    "    start_vertex = 'A'\n",
    "    end_vertex = 'G'\n",
    "    current_vertex = start_vertex\n",
    "    permanent[start_vertex] = 0\n",
    "    i = 0\n",
    "\n",
    "    while current_vertex != end_vertex:\n",
    "\n",
    "        # get adjacents\n",
    "        adj = G.get_adjacents(current_vertex)\n",
    "\n",
    "        # update working vertex values for adjacents\n",
    "        for (v,w) in adj:\n",
    "            if v not in permanent:\n",
    "                if v not in working:\n",
    "                    working[v] = permanent[current_vertex] + w\n",
    "                else:\n",
    "                    if permanent[current_vertex] + w < working[v]:\n",
    "                        working[v] = permanent[current_vertex] + w\n",
    "\n",
    "        # move to next vertex\n",
    "        min_dist = 100\n",
    "        min_vertex = ''\n",
    "        for v in working:\n",
    "            if working[v]<min_dist and v not in permanent:\n",
    "                min_dist = working[v]\n",
    "                min_vertex = v\n",
    "\n",
    "        permanent[min_vertex] = min_dist\n",
    "        i+=1\n",
    "        log[i] = [current_vertex,min_vertex,working.copy(),permanent.copy()]\n",
    "        current_vertex = min_vertex\n",
    "        \n",
    "    solution = permanent[end_vertex]\n",
    "    \n",
    "    return solution,log\n",
    "\n",
    "\n",
    "def show_log(log):\n",
    "    for i in range(1,len(log)+1):\n",
    "        c,n,w,p = log[i]\n",
    "        print(f'step {i}')\n",
    "        print(f'current vertex {c}')\n",
    "        print(f'next vertex {n}')\n",
    "        print(f'working {w}')\n",
    "        print(f'permanent {p}')\n",
    "\n",
    "    "
   ]
  },
  {
   "cell_type": "code",
   "execution_count": 144,
   "metadata": {},
   "outputs": [],
   "source": [
    "# run algorithm\n",
    "\n",
    "solution,log = run_algorithm(G)"
   ]
  },
  {
   "cell_type": "code",
   "execution_count": 145,
   "metadata": {},
   "outputs": [
    {
     "data": {
      "text/plain": [
       "24"
      ]
     },
     "execution_count": 145,
     "metadata": {},
     "output_type": "execute_result"
    }
   ],
   "source": [
    "# solution - the shortest path\n",
    "\n",
    "solution"
   ]
  },
  {
   "cell_type": "code",
   "execution_count": 146,
   "metadata": {},
   "outputs": [
    {
     "name": "stdout",
     "output_type": "stream",
     "text": [
      "step 1\n",
      "current vertex A\n",
      "next vertex E\n",
      "working {'B': 13, 'D': 14, 'E': 7}\n",
      "permanent {'A': 0, 'E': 7}\n",
      "step 2\n",
      "current vertex E\n",
      "next vertex D\n",
      "working {'B': 13, 'D': 10, 'E': 7, 'F': 17}\n",
      "permanent {'A': 0, 'E': 7, 'D': 10}\n",
      "step 3\n",
      "current vertex D\n",
      "next vertex B\n",
      "working {'B': 13, 'D': 10, 'E': 7, 'F': 17, 'C': 25, 'G': 29}\n",
      "permanent {'A': 0, 'E': 7, 'D': 10, 'B': 13}\n",
      "step 4\n",
      "current vertex B\n",
      "next vertex F\n",
      "working {'B': 13, 'D': 10, 'E': 7, 'F': 17, 'C': 25, 'G': 29}\n",
      "permanent {'A': 0, 'E': 7, 'D': 10, 'B': 13, 'F': 17}\n",
      "step 5\n",
      "current vertex F\n",
      "next vertex C\n",
      "working {'B': 13, 'D': 10, 'E': 7, 'F': 17, 'C': 22, 'G': 29}\n",
      "permanent {'A': 0, 'E': 7, 'D': 10, 'B': 13, 'F': 17, 'C': 22}\n",
      "step 6\n",
      "current vertex C\n",
      "next vertex G\n",
      "working {'B': 13, 'D': 10, 'E': 7, 'F': 17, 'C': 22, 'G': 24}\n",
      "permanent {'A': 0, 'E': 7, 'D': 10, 'B': 13, 'F': 17, 'C': 22, 'G': 24}\n"
     ]
    }
   ],
   "source": [
    "# show algorithm state at each step\n",
    "\n",
    "show_log(log)"
   ]
  },
  {
   "cell_type": "code",
   "execution_count": null,
   "metadata": {},
   "outputs": [],
   "source": []
  },
  {
   "cell_type": "code",
   "execution_count": null,
   "metadata": {},
   "outputs": [],
   "source": []
  },
  {
   "cell_type": "code",
   "execution_count": 11,
   "metadata": {},
   "outputs": [],
   "source": [
    "\n"
   ]
  },
  {
   "cell_type": "code",
   "execution_count": null,
   "metadata": {},
   "outputs": [],
   "source": []
  }
 ],
 "metadata": {
  "kernelspec": {
   "display_name": "Python 3",
   "language": "python",
   "name": "python3"
  },
  "language_info": {
   "codemirror_mode": {
    "name": "ipython",
    "version": 3
   },
   "file_extension": ".py",
   "mimetype": "text/x-python",
   "name": "python",
   "nbconvert_exporter": "python",
   "pygments_lexer": "ipython3",
   "version": "3.8.5"
  }
 },
 "nbformat": 4,
 "nbformat_minor": 4
}
